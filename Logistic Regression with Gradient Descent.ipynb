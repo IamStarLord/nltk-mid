{
 "cells": [
  {
   "cell_type": "code",
   "execution_count": 11,
   "id": "5d416647",
   "metadata": {},
   "outputs": [],
   "source": [
    "import numpy as np\n",
    "import pandas as pd\n",
    "import matplotlib.pyplot as plt\n",
    "import csv"
   ]
  },
  {
   "cell_type": "code",
   "execution_count": 4,
   "id": "ed2759ca",
   "metadata": {},
   "outputs": [],
   "source": [
    "read_file = pd.read_csv ('dataForTrainingLogistic.txt', sep = \" \", header = None)\n",
    "read_file.to_csv ('dataForTrainingLogistic.csv', index=None)"
   ]
  },
  {
   "cell_type": "code",
   "execution_count": 12,
   "id": "4950b5cf",
   "metadata": {},
   "outputs": [
    {
     "name": "stdout",
     "output_type": "stream",
     "text": [
      "[[1.  0.4 0.8 ... 0.9 0.1 0.6]\n",
      " [1.  0.3 0.7 ... 0.9 0.2 0. ]\n",
      " [1.  0.4 0.6 ... 1.  0.6 0.7]\n",
      " ...\n",
      " [1.  1.  0.1 ... 0.4 0.8 0. ]\n",
      " [1.  0.6 0.4 ... 0.8 0.7 0.2]\n",
      " [1.  1.  0.1 ... 0.6 1.  0.1]]\n"
     ]
    }
   ],
   "source": [
    "with open('dataForTrainingLogistic.csv') as f:\n",
    "    reader = csv.reader(f)\n",
    "    next(reader)\n",
    "    \n",
    "    data = []\n",
    "    for row in reader:\n",
    "        data.append({\n",
    "            \"bias\": [1],\n",
    "            \"evidence\": [float(cell) for cell in row[:6]],\n",
    "            \"label\": [int(cell) for cell in row[6]]\n",
    "        })\n",
    "        \n",
    "bias = np.array([row[\"bias\"] for row in data])\n",
    "features = np.array([row[\"evidence\"] for row in data])\n",
    "features = np.append(bias, features, axis=1) # what does this function do ? (400, 7)\n",
    "labels = np.array([row[\"label\"] for row in data]) #(400, 1)\n",
    "weights = np.zeros((7, 1)) # initalize weights of shape (7, 1)\n",
    "print(features)"
   ]
  },
  {
   "cell_type": "code",
   "execution_count": 13,
   "id": "c2dc996f",
   "metadata": {},
   "outputs": [],
   "source": [
    "# sigmoid activation function\n",
    "def sigmoid(z):\n",
    "    return 1.0 / (1 + np.exp(-z))"
   ]
  },
  {
   "cell_type": "code",
   "execution_count": 14,
   "id": "b11c6bbb",
   "metadata": {},
   "outputs": [],
   "source": [
    "def predict(features, weights):\n",
    "    ''' \n",
    "    Returns 1d array of probabilities \n",
    "    that class label = 1\n",
    "    '''\n",
    "    z = np.dot(features, weights)\n",
    "    return sigmoid(z)"
   ]
  },
  {
   "cell_type": "code",
   "execution_count": 15,
   "id": "5169ebc4",
   "metadata": {},
   "outputs": [],
   "source": [
    "def cost_function(features, labels, weights):\n",
    "     \n",
    "    observations = len(labels)\n",
    "    predictions = predict(features, weights)\n",
    "    \n",
    "    # take error when label = 1 \n",
    "    class1_cost = -labels * np.log(predictions)\n",
    "    \n",
    "    # take error when label = 0 \n",
    "    class0_cost = (1 - labels) * np.log(1 - predictions)\n",
    "    \n",
    "    # sum of both costs\n",
    "    cost = class1_cost - class0_cost\n",
    "    cost = cost.sum() / observations # mean \n",
    "    \n",
    "    return cost\n",
    "    "
   ]
  },
  {
   "cell_type": "code",
   "execution_count": 16,
   "id": "d5e046fc",
   "metadata": {},
   "outputs": [],
   "source": [
    "def grad_descent(features, labels, weights, lr):\n",
    "    '''\n",
    "    Vectorized gradient ascent\n",
    "    \n",
    "    Features: ()\n",
    "    Labels: ()\n",
    "    Weights: ()\n",
    "    '''\n",
    "    N = len(features)\n",
    "    # get predictions \n",
    "    predictions = predict(features, weights)\n",
    "    # transpose feature matrix to multiply it with the error\n",
    "    gradient = np.dot(features.T, predictions - labels)\n",
    "    \n",
    "    # take the average \n",
    "    gradient /= N\n",
    "    # multiply with the learning rate\n",
    "    gradient *= lr\n",
    "    \n",
    "    # subtract from weights to minimize cost \n",
    "    weights -= gradient\n",
    "    \n",
    "    return weights"
   ]
  },
  {
   "cell_type": "code",
   "execution_count": 17,
   "id": "a94d9314",
   "metadata": {},
   "outputs": [
    {
     "name": "stdout",
     "output_type": "stream",
     "text": [
      "[[ 1.25000e-04]\n",
      " [-1.10750e-03]\n",
      " [ 1.33125e-03]\n",
      " [-1.11375e-03]\n",
      " [ 1.31375e-03]\n",
      " [-9.73750e-04]\n",
      " [-4.50000e-05]]\n",
      "[[0.]\n",
      " [0.]\n",
      " [0.]\n",
      " [0.]\n",
      " [0.]\n",
      " [0.]\n",
      " [0.]]\n"
     ]
    }
   ],
   "source": [
    "new_weights = grad_descent(features, labels, np.copy(weights), 0.01)\n",
    "print(new_weights)\n",
    "print(weights)"
   ]
  },
  {
   "cell_type": "code",
   "execution_count": 18,
   "id": "0206d259",
   "metadata": {},
   "outputs": [],
   "source": [
    "# define decision boundry\n",
    "def decision_boundary(prob):\n",
    "    for p in prob:\n",
    "        return 1 if p >= 0.5 else 0"
   ]
  },
  {
   "cell_type": "code",
   "execution_count": 19,
   "id": "fa9014c3",
   "metadata": {},
   "outputs": [],
   "source": [
    "def classify(predictions):\n",
    "    classifications = []\n",
    "    for pred in predictions:\n",
    "        classifications.append(decision_boundary(pred))\n",
    "    return classifications"
   ]
  },
  {
   "cell_type": "code",
   "execution_count": 20,
   "id": "94bdac9d",
   "metadata": {},
   "outputs": [],
   "source": [
    "def train(features, labels, weights, lr, epochs):\n",
    "    cost_history = []\n",
    "    \n",
    "    for epoch in range(epochs):\n",
    "        weights = grad_descent(features, labels, weights, lr)\n",
    "        \n",
    "        # calculate error \n",
    "        cost = cost_function(features, labels, weights)\n",
    "        cost_history.append(cost)\n",
    "        \n",
    "        # print cost every 1000 iteration\n",
    "        if epoch % 1000 == 0:\n",
    "            print(f\"epoch: {epoch},  cost: {cost}\")\n",
    "            \n",
    "    return weights, cost_history"
   ]
  },
  {
   "cell_type": "code",
   "execution_count": 21,
   "id": "f051d395",
   "metadata": {},
   "outputs": [
    {
     "name": "stdout",
     "output_type": "stream",
     "text": [
      "epoch: 0,  cost: 0.6924543586466683\n",
      "epoch: 1000,  cost: 0.3280154893618599\n",
      "epoch: 2000,  cost: 0.2133405564327551\n",
      "epoch: 3000,  cost: 0.1601449376303064\n",
      "epoch: 4000,  cost: 0.12958723538908332\n",
      "epoch: 5000,  cost: 0.1097057571289698\n",
      "epoch: 6000,  cost: 0.09569082346210855\n",
      "epoch: 7000,  cost: 0.08524673757879687\n",
      "epoch: 8000,  cost: 0.07714060732698584\n",
      "epoch: 9000,  cost: 0.07065100042543399\n",
      "[[ 0.52996161]\n",
      " [-2.44544139]\n",
      " [ 3.28183652]\n",
      " [-2.46798885]\n",
      " [ 3.19871746]\n",
      " [-2.04440476]\n",
      " [ 0.04013301]]\n",
      "[[0.]\n",
      " [0.]\n",
      " [0.]\n",
      " [0.]\n",
      " [0.]\n",
      " [0.]\n",
      " [0.]]\n"
     ]
    }
   ],
   "source": [
    "updated_weights, history = train(features, labels, np.copy(weights), 0.01, 10000)\n",
    "print(updated_weights)\n",
    "print(weights)"
   ]
  },
  {
   "cell_type": "code",
   "execution_count": 22,
   "id": "bd8cec44",
   "metadata": {},
   "outputs": [
    {
     "data": {
      "image/png": "[encoded data removed]",
      "text/plain": [
       "<Figure size 432x288 with 1 Axes>"
      ]
     },
     "metadata": {
      "needs_background": "light"
     },
     "output_type": "display_data"
    }
   ],
   "source": [
    "# plot objective function and number of iteration\n",
    "plt.plot(history)\n",
    "plt.ylabel(\"objective function\")\n",
    "plt.show()"
   ]
  },
  {
   "cell_type": "code",
   "execution_count": 64,
   "id": "8463bccc",
   "metadata": {},
   "outputs": [
    {
     "name": "stdout",
     "output_type": "stream",
     "text": [
      "100\n"
     ]
    }
   ],
   "source": [
    "with open('dataForTestingLogistic.csv') as f:\n",
    "    reader = csv.reader(f)\n",
    "    next(reader)\n",
    "    \n",
    "    data_test = []\n",
    "    for row in reader:\n",
    "        data_test.append({\n",
    "            \"bias\": [1],\n",
    "            \"evidence\": [float(cell) for cell in row[:6]],\n",
    "            \"label\": [int(cell) for cell in row[6]]\n",
    "        })\n",
    "        \n",
    "bias_test = np.array([row[\"bias\"] for row in data_test])\n",
    "features_t = np.array([row[\"evidence\"] for row in data_test])\n",
    "features_t = np.append(bias_test, features_t, axis=1) # what does this function do ? (400, 7)\n",
    "labels_test = np.array([row[\"label\"] for row in data]).flatten() #(400, 1)\n",
    "print(len(labels_test))"
   ]
  },
  {
   "cell_type": "code",
   "execution_count": 80,
   "id": "bf99436d",
   "metadata": {},
   "outputs": [],
   "source": [
    "def test(features_t, weights_t):\n",
    "    predictions = predict(features_t, weights_t)\n",
    "    # compare new labels with old labels\n",
    "    new_labels = classify(predictions)\n",
    "    return new_labels"
   ]
  },
  {
   "cell_type": "code",
   "execution_count": 84,
   "id": "d8b4e96e",
   "metadata": {},
   "outputs": [
    {
     "name": "stdout",
     "output_type": "stream",
     "text": [
      "[0, 0, 0, 1, 0, 1, 1, 0, 1, 0, 0, 1, 0, 0, 1, 0, 0, 1, 0, 1, 0, 0, 0, 1, 1, 1, 0, 0, 1, 0, 1, 1, 0, 0, 1, 0, 1, 0, 0, 0, 1, 1, 0, 1, 0, 0, 1, 0, 1, 1, 1, 1, 0, 1, 0, 0, 0, 0, 1, 1, 1, 1, 1, 0, 1, 1, 1, 1, 0, 1, 1, 1, 0, 1, 1, 1, 1, 1, 0, 1, 1, 0, 0, 1, 0, 0, 0, 1, 0, 1, 0, 1, 0, 1, 1, 0, 0, 0, 1, 1]\n"
     ]
    }
   ],
   "source": [
    "predicted_labels = test(features_t, updated_weights)\n",
    "print(predicted_labels)"
   ]
  },
  {
   "cell_type": "code",
   "execution_count": 85,
   "id": "58854533",
   "metadata": {},
   "outputs": [],
   "source": [
    "def accuracy(predicted_labels, actual_labels):\n",
    "    diff = predicted_labels - actual_labels\n",
    "    return 1.0 - (float(np.count_nonzero(diff)) / len(diff))"
   ]
  },
  {
   "cell_type": "code",
   "execution_count": 87,
   "id": "2b44a6f6",
   "metadata": {},
   "outputs": [
    {
     "data": {
      "text/plain": [
       "1.0"
      ]
     },
     "execution_count": 87,
     "metadata": {},
     "output_type": "execute_result"
    }
   ],
   "source": [
    "accuracy(predicted_labels, labels_test)"
   ]
  },
  {
   "cell_type": "code",
   "execution_count": null,
   "id": "a5cbb200",
   "metadata": {},
   "outputs": [],
   "source": [
    "def stoch_grad_descent(features, labels, weights, lr):\n",
    "    '''\n",
    "    Vectorized gradient ascent\n",
    "    \n",
    "    Features: ()\n",
    "    Labels: ()\n",
    "    Weights: ()\n",
    "    '''\n",
    "    # get predictions \n",
    "    predictions = predict(features, weights)\n",
    "    # transpose feature matrix to multiply it with the error\n",
    "    gradient = np.dot(features.T, predictions - labels)\n",
    "    \n",
    "    # take the average \n",
    "    gradient /= N\n",
    "    # multiply with the learning rate\n",
    "    gradient *= lr\n",
    "    \n",
    "    # subtract from weights to minimize cost \n",
    "    weights -= gradient\n",
    "    \n",
    "    return weights"
   ]
  }
 ],
 "metadata": {
  "kernelspec": {
   "display_name": "Python [conda env:masters]",
   "language": "python",
   "name": "conda-env-masters-py"
  },
  "language_info": {
   "codemirror_mode": {
    "name": "ipython",
    "version": 3
   },
   "file_extension": ".py",
   "mimetype": "text/x-python",
   "name": "python",
   "nbconvert_exporter": "python",
   "pygments_lexer": "ipython3",
   "version": "3.9.7"
  }
 },
 "nbformat": 4,
 "nbformat_minor": 5
}
