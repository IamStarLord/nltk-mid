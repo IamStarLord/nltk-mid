{
 "cells": [
  {
   "cell_type": "markdown",
   "id": "52ec9bdd",
   "metadata": {},
   "source": [
    "# Data Processing"
   ]
  },
  {
   "cell_type": "markdown",
   "id": "56ebdfcf",
   "metadata": {},
   "source": [
    "This section deals with data processing "
   ]
  },
  {
   "cell_type": "code",
   "execution_count": 1,
   "id": "94c41799",
   "metadata": {},
   "outputs": [],
   "source": [
    "import pandas as pd \n",
    "import numpy as np \n",
    "import matplotlib.pyplot as plt\n",
    "import random"
   ]
  },
  {
   "cell_type": "code",
   "execution_count": 2,
   "id": "8f3ee60e",
   "metadata": {
    "scrolled": true
   },
   "outputs": [
    {
     "data": {
      "text/html": [
       "<div>\n",
       "<style scoped>\n",
       "    .dataframe tbody tr th:only-of-type {\n",
       "        vertical-align: middle;\n",
       "    }\n",
       "\n",
       "    .dataframe tbody tr th {\n",
       "        vertical-align: top;\n",
       "    }\n",
       "\n",
       "    .dataframe thead th {\n",
       "        text-align: right;\n",
       "    }\n",
       "</style>\n",
       "<table border=\"1\" class=\"dataframe\">\n",
       "  <thead>\n",
       "    <tr style=\"text-align: right;\">\n",
       "      <th></th>\n",
       "      <th>0</th>\n",
       "      <th>1</th>\n",
       "      <th>2</th>\n",
       "    </tr>\n",
       "  </thead>\n",
       "  <tbody>\n",
       "    <tr>\n",
       "      <th>0</th>\n",
       "      <td>101</td>\n",
       "      <td>1.7</td>\n",
       "      <td>641.48</td>\n",
       "    </tr>\n",
       "    <tr>\n",
       "      <th>1</th>\n",
       "      <td>120</td>\n",
       "      <td>2.3</td>\n",
       "      <td>722.30</td>\n",
       "    </tr>\n",
       "    <tr>\n",
       "      <th>2</th>\n",
       "      <td>115</td>\n",
       "      <td>4.0</td>\n",
       "      <td>569.43</td>\n",
       "    </tr>\n",
       "    <tr>\n",
       "      <th>3</th>\n",
       "      <td>123</td>\n",
       "      <td>2.8</td>\n",
       "      <td>706.34</td>\n",
       "    </tr>\n",
       "    <tr>\n",
       "      <th>4</th>\n",
       "      <td>98</td>\n",
       "      <td>1.2</td>\n",
       "      <td>657.44</td>\n",
       "    </tr>\n",
       "  </tbody>\n",
       "</table>\n",
       "</div>"
      ],
      "text/plain": [
       "     0    1       2\n",
       "0  101  1.7  641.48\n",
       "1  120  2.3  722.30\n",
       "2  115  4.0  569.43\n",
       "3  123  2.8  706.34\n",
       "4   98  1.2  657.44"
      ]
     },
     "execution_count": 2,
     "metadata": {},
     "output_type": "execute_result"
    }
   ],
   "source": [
    "df = pd.read_csv('dataForTrainingLinear.txt', sep = \" \", header = None)\n",
    "df.head()"
   ]
  },
  {
   "cell_type": "code",
   "execution_count": 3,
   "id": "81a2ebee",
   "metadata": {},
   "outputs": [],
   "source": [
    "df.insert(0, -1, pd.Series(1, index=df.index)) # insert coefficent for the bias term"
   ]
  },
  {
   "cell_type": "code",
   "execution_count": 4,
   "id": "203c3feb",
   "metadata": {},
   "outputs": [
    {
     "data": {
      "text/html": [
       "<div>\n",
       "<style scoped>\n",
       "    .dataframe tbody tr th:only-of-type {\n",
       "        vertical-align: middle;\n",
       "    }\n",
       "\n",
       "    .dataframe tbody tr th {\n",
       "        vertical-align: top;\n",
       "    }\n",
       "\n",
       "    .dataframe thead th {\n",
       "        text-align: right;\n",
       "    }\n",
       "</style>\n",
       "<table border=\"1\" class=\"dataframe\">\n",
       "  <thead>\n",
       "    <tr style=\"text-align: right;\">\n",
       "      <th></th>\n",
       "      <th>-1</th>\n",
       "      <th>0</th>\n",
       "      <th>1</th>\n",
       "      <th>2</th>\n",
       "    </tr>\n",
       "  </thead>\n",
       "  <tbody>\n",
       "    <tr>\n",
       "      <th>0</th>\n",
       "      <td>1</td>\n",
       "      <td>101</td>\n",
       "      <td>1.7</td>\n",
       "      <td>641.48</td>\n",
       "    </tr>\n",
       "    <tr>\n",
       "      <th>1</th>\n",
       "      <td>1</td>\n",
       "      <td>120</td>\n",
       "      <td>2.3</td>\n",
       "      <td>722.30</td>\n",
       "    </tr>\n",
       "    <tr>\n",
       "      <th>2</th>\n",
       "      <td>1</td>\n",
       "      <td>115</td>\n",
       "      <td>4.0</td>\n",
       "      <td>569.43</td>\n",
       "    </tr>\n",
       "    <tr>\n",
       "      <th>3</th>\n",
       "      <td>1</td>\n",
       "      <td>123</td>\n",
       "      <td>2.8</td>\n",
       "      <td>706.34</td>\n",
       "    </tr>\n",
       "    <tr>\n",
       "      <th>4</th>\n",
       "      <td>1</td>\n",
       "      <td>98</td>\n",
       "      <td>1.2</td>\n",
       "      <td>657.44</td>\n",
       "    </tr>\n",
       "  </tbody>\n",
       "</table>\n",
       "</div>"
      ],
      "text/plain": [
       "   -1    0    1       2\n",
       "0   1  101  1.7  641.48\n",
       "1   1  120  2.3  722.30\n",
       "2   1  115  4.0  569.43\n",
       "3   1  123  2.8  706.34\n",
       "4   1   98  1.2  657.44"
      ]
     },
     "execution_count": 4,
     "metadata": {},
     "output_type": "execute_result"
    }
   ],
   "source": [
    "df.head()"
   ]
  },
  {
   "cell_type": "code",
   "execution_count": 5,
   "id": "eed9d75f",
   "metadata": {},
   "outputs": [
    {
     "data": {
      "text/plain": [
       "0    641.48\n",
       "1    722.30\n",
       "2    569.43\n",
       "3    706.34\n",
       "4    657.44\n",
       "Name: 2, dtype: float64"
      ]
     },
     "execution_count": 5,
     "metadata": {},
     "output_type": "execute_result"
    }
   ],
   "source": [
    "X_train = df.iloc[:, :-1] # independent variables\n",
    "Y_train = df.iloc[:, -1] # dependent variable\n",
    "len_X_vars = len(X_train.columns)\n",
    "X_train.head()\n",
    "Y_train.head()"
   ]
  },
  {
   "cell_type": "code",
   "execution_count": 6,
   "id": "e84d67a8",
   "metadata": {},
   "outputs": [
    {
     "name": "stdout",
     "output_type": "stream",
     "text": [
      "50\n"
     ]
    }
   ],
   "source": [
    "# weights for the dependent variables\n",
    "W = np.array([0] * len_X_vars)\n",
    "train_len = len(X_train) # length of training data \n",
    "print(train_len)"
   ]
  },
  {
   "cell_type": "markdown",
   "id": "1dc6c926",
   "metadata": {},
   "source": [
    "# Multivariate Linear Regression"
   ]
  },
  {
   "cell_type": "markdown",
   "id": "99f87e3a",
   "metadata": {},
   "source": [
    "This section implements linear regression"
   ]
  },
  {
   "cell_type": "markdown",
   "id": "eb636526",
   "metadata": {},
   "source": [
    "## Training"
   ]
  },
  {
   "cell_type": "code",
   "execution_count": 7,
   "id": "e5d8ca0b",
   "metadata": {},
   "outputs": [],
   "source": [
    "def hypothesis(W, X):\n",
    "    return W * X"
   ]
  },
  {
   "cell_type": "code",
   "execution_count": 8,
   "id": "4a871654",
   "metadata": {},
   "outputs": [],
   "source": [
    "def cost(X, Y, W):\n",
    "    Y1 = hypothesis(W, X)\n",
    "    Y1 = np.sum(Y1, axis=1) # sum the values in all three columns of every row\n",
    "    len_data = len(X)\n",
    "    return sum((Y1 - Y) ** 2)/ (2 * len_data)"
   ]
  },
  {
   "cell_type": "code",
   "execution_count": 9,
   "id": "8c5ec311",
   "metadata": {},
   "outputs": [],
   "source": [
    "def grad_descent(X, Y, W, epochs, l_rate): # takes independent vars, dependent vars, initial sets of weights, epochs and learning rate\n",
    "    costs = list() # cost at every 100000 iteration\n",
    "    for epoch in range(epochs):\n",
    "        Y1 = hypothesis(W, X) \n",
    "        Y1 = np.sum(Y1, axis=1) # hypothesis calculation of all points \n",
    "        for i in range(len(W)):\n",
    "            W[i] = W[i] - l_rate * (1 / train_len) * (sum((Y1 - Y)* X_train.iloc[:, i]))\n",
    "        if (epoch / 100000) in range(0, 15):\n",
    "            costs.append(cost(X, Y, W))\n",
    "            print(f\"weights at epoch {epoch} are {W}\")\n",
    "    print(f\"final weights are {W}\")\n",
    "    return (W, costs)"
   ]
  },
  {
   "cell_type": "code",
   "execution_count": 10,
   "id": "ba03c15b",
   "metadata": {},
   "outputs": [
    {
     "name": "stdout",
     "output_type": "stream",
     "text": [
      "weights at epoch 0 are [0.06016791 6.30702078 0.24828245]\n",
      "weights at epoch 100000 are [ 46.32989508   7.08938742 -72.75988293]\n",
      "weights at epoch 200000 are [ 65.48738442   6.90006184 -72.5407504 ]\n",
      "weights at epoch 300000 are [ 73.56835224   6.82020096 -72.44831642]\n",
      "weights at epoch 400000 are [ 76.97704739   6.78651422 -72.40932614]\n",
      "weights at epoch 500000 are [ 78.41489529   6.77230457 -72.39287934]\n",
      "weights at epoch 600000 are [ 79.02140497   6.76631068 -72.38594179]\n",
      "weights at epoch 700000 are [ 79.27724148   6.76378235 -72.38301541]\n",
      "weights at epoch 800000 are [ 79.38515784   6.76271586 -72.38178102]\n",
      "weights at epoch 900000 are [ 79.43067887   6.76226599 -72.38126032]\n",
      "weights at epoch 1000000 are [ 79.44988045   6.76207623 -72.38104069]\n",
      "weights at epoch 1100000 are [ 79.45798001   6.76199619 -72.38094804]\n",
      "weights at epoch 1200000 are [ 79.46139655   6.76196242 -72.38090896]\n",
      "weights at epoch 1300000 are [ 79.46283771   6.76194818 -72.38089248]\n",
      "weights at epoch 1400000 are [ 79.46344561   6.76194217 -72.38088552]\n",
      "final weights are [ 79.46370204   6.76193964 -72.38088259]\n"
     ]
    }
   ],
   "source": [
    "W, cost_testing = grad_descent(X_train, Y_train, np.zeros(3), 1500000, 0.00015) # update the weights according to optimal weights#\n",
    "#W = np.array([79.46370204, 6.76193964, -72.38088259])"
   ]
  },
  {
   "cell_type": "markdown",
   "id": "57dd8ae6",
   "metadata": {},
   "source": [
    "# Testing"
   ]
  },
  {
   "cell_type": "markdown",
   "id": "b383a026",
   "metadata": {},
   "source": [
    "## Data Processing for Testing"
   ]
  },
  {
   "cell_type": "code",
   "execution_count": 11,
   "id": "ce29fab4",
   "metadata": {},
   "outputs": [
    {
     "data": {
      "text/html": [
       "<div>\n",
       "<style scoped>\n",
       "    .dataframe tbody tr th:only-of-type {\n",
       "        vertical-align: middle;\n",
       "    }\n",
       "\n",
       "    .dataframe tbody tr th {\n",
       "        vertical-align: top;\n",
       "    }\n",
       "\n",
       "    .dataframe thead th {\n",
       "        text-align: right;\n",
       "    }\n",
       "</style>\n",
       "<table border=\"1\" class=\"dataframe\">\n",
       "  <thead>\n",
       "    <tr style=\"text-align: right;\">\n",
       "      <th></th>\n",
       "      <th>0</th>\n",
       "      <th>1</th>\n",
       "      <th>2</th>\n",
       "    </tr>\n",
       "  </thead>\n",
       "  <tbody>\n",
       "    <tr>\n",
       "      <th>0</th>\n",
       "      <td>93</td>\n",
       "      <td>0.78</td>\n",
       "      <td>637.07</td>\n",
       "    </tr>\n",
       "    <tr>\n",
       "      <th>1</th>\n",
       "      <td>104</td>\n",
       "      <td>3.82</td>\n",
       "      <td>494.08</td>\n",
       "    </tr>\n",
       "    <tr>\n",
       "      <th>2</th>\n",
       "      <td>110</td>\n",
       "      <td>4.27</td>\n",
       "      <td>502.26</td>\n",
       "    </tr>\n",
       "    <tr>\n",
       "      <th>3</th>\n",
       "      <td>69</td>\n",
       "      <td>5.20</td>\n",
       "      <td>166.46</td>\n",
       "    </tr>\n",
       "    <tr>\n",
       "      <th>4</th>\n",
       "      <td>80</td>\n",
       "      <td>1.22</td>\n",
       "      <td>521.05</td>\n",
       "    </tr>\n",
       "  </tbody>\n",
       "</table>\n",
       "</div>"
      ],
      "text/plain": [
       "     0     1       2\n",
       "0   93  0.78  637.07\n",
       "1  104  3.82  494.08\n",
       "2  110  4.27  502.26\n",
       "3   69  5.20  166.46\n",
       "4   80  1.22  521.05"
      ]
     },
     "execution_count": 11,
     "metadata": {},
     "output_type": "execute_result"
    }
   ],
   "source": [
    "# perform testing given the optimal weights \n",
    "df = pd.read_csv('dataForTestingLinear.txt', sep = \" \", header = None)\n",
    "df.head()"
   ]
  },
  {
   "cell_type": "code",
   "execution_count": 12,
   "id": "7775b5ba",
   "metadata": {},
   "outputs": [],
   "source": [
    "df.insert(0, -1, pd.Series(1, index=df.index)) # insert coefficent for the bias term"
   ]
  },
  {
   "cell_type": "code",
   "execution_count": 13,
   "id": "4a7cec2b",
   "metadata": {},
   "outputs": [
    {
     "data": {
      "text/html": [
       "<div>\n",
       "<style scoped>\n",
       "    .dataframe tbody tr th:only-of-type {\n",
       "        vertical-align: middle;\n",
       "    }\n",
       "\n",
       "    .dataframe tbody tr th {\n",
       "        vertical-align: top;\n",
       "    }\n",
       "\n",
       "    .dataframe thead th {\n",
       "        text-align: right;\n",
       "    }\n",
       "</style>\n",
       "<table border=\"1\" class=\"dataframe\">\n",
       "  <thead>\n",
       "    <tr style=\"text-align: right;\">\n",
       "      <th></th>\n",
       "      <th>-1</th>\n",
       "      <th>0</th>\n",
       "      <th>1</th>\n",
       "      <th>2</th>\n",
       "    </tr>\n",
       "  </thead>\n",
       "  <tbody>\n",
       "    <tr>\n",
       "      <th>0</th>\n",
       "      <td>1</td>\n",
       "      <td>93</td>\n",
       "      <td>0.78</td>\n",
       "      <td>637.07</td>\n",
       "    </tr>\n",
       "    <tr>\n",
       "      <th>1</th>\n",
       "      <td>1</td>\n",
       "      <td>104</td>\n",
       "      <td>3.82</td>\n",
       "      <td>494.08</td>\n",
       "    </tr>\n",
       "    <tr>\n",
       "      <th>2</th>\n",
       "      <td>1</td>\n",
       "      <td>110</td>\n",
       "      <td>4.27</td>\n",
       "      <td>502.26</td>\n",
       "    </tr>\n",
       "    <tr>\n",
       "      <th>3</th>\n",
       "      <td>1</td>\n",
       "      <td>69</td>\n",
       "      <td>5.20</td>\n",
       "      <td>166.46</td>\n",
       "    </tr>\n",
       "    <tr>\n",
       "      <th>4</th>\n",
       "      <td>1</td>\n",
       "      <td>80</td>\n",
       "      <td>1.22</td>\n",
       "      <td>521.05</td>\n",
       "    </tr>\n",
       "  </tbody>\n",
       "</table>\n",
       "</div>"
      ],
      "text/plain": [
       "   -1    0     1       2\n",
       "0   1   93  0.78  637.07\n",
       "1   1  104  3.82  494.08\n",
       "2   1  110  4.27  502.26\n",
       "3   1   69  5.20  166.46\n",
       "4   1   80  1.22  521.05"
      ]
     },
     "execution_count": 13,
     "metadata": {},
     "output_type": "execute_result"
    }
   ],
   "source": [
    "df.head()"
   ]
  },
  {
   "cell_type": "code",
   "execution_count": 14,
   "id": "f7f8a253",
   "metadata": {},
   "outputs": [
    {
     "name": "stdout",
     "output_type": "stream",
     "text": [
      "10\n"
     ]
    },
    {
     "data": {
      "text/plain": [
       "0    637.07\n",
       "1    494.08\n",
       "2    502.26\n",
       "3    166.46\n",
       "4    521.05\n",
       "Name: 2, dtype: float64"
      ]
     },
     "execution_count": 14,
     "metadata": {},
     "output_type": "execute_result"
    }
   ],
   "source": [
    "X_test = df.iloc[:, :-1] # all the rows except the last row \n",
    "Y_test = df.iloc[:, -1] # only the last row \n",
    "test_len = len(X_test)\n",
    "print(test_len) \n",
    "X_test.head()\n",
    "Y_test.head()"
   ]
  },
  {
   "cell_type": "code",
   "execution_count": 15,
   "id": "a20ab4bc",
   "metadata": {},
   "outputs": [
    {
     "data": {
      "text/plain": [
       "0    651.867000\n",
       "1    506.210453\n",
       "2    514.210694\n",
       "3    169.656948\n",
       "4    532.114196\n",
       "5    550.685566\n",
       "6    544.001886\n",
       "7    476.553463\n",
       "8    354.990351\n",
       "9    616.419539\n",
       "dtype: float64"
      ]
     },
     "execution_count": 15,
     "metadata": {},
     "output_type": "execute_result"
    }
   ],
   "source": [
    "# Calculate the hypothesis (predicted value) for each data point in testing set \n",
    "prediction = np.sum(hypothesis(W, X_test), axis=1)\n",
    "prediction"
   ]
  },
  {
   "cell_type": "code",
   "execution_count": 16,
   "id": "ed98156a",
   "metadata": {
    "scrolled": true
   },
   "outputs": [
    {
     "name": "stdout",
     "output_type": "stream",
     "text": [
      "[49610.3771565766, 33.50330670753511, 7.529547591299077, 2.9080324663087613, 2.085725538962252, 1.9394123355053141, 1.9133788037498518, 1.9087466532695698, 1.9079224539917385, 1.9077758040820598, 1.907749710640124, 1.9077450678298, 1.9077442417338488, 1.9077440947464441, 1.9077440685929599]\n"
     ]
    }
   ],
   "source": [
    "# find error on prediction\n",
    "#cost_testing = cost(X_test, Y_test, W)\n",
    "print(cost_testing)"
   ]
  },
  {
   "cell_type": "code",
   "execution_count": 17,
   "id": "1095bd32",
   "metadata": {},
   "outputs": [
    {
     "data": {
      "image/png": "[encoded data removed]",
      "text/plain": [
       "<Figure size 432x288 with 1 Axes>"
      ]
     },
     "metadata": {
      "needs_background": "light"
     },
     "output_type": "display_data"
    }
   ],
   "source": [
    "# find accuracy\n",
    "# find graphs\n",
    "# implement stochastic gradient descent \n",
    "plt.figure()\n",
    "plt.scatter(x = list(range(0, 15)), y = cost_testing)\n",
    "plt.show()"
   ]
  },
  {
   "cell_type": "markdown",
   "id": "33db388e",
   "metadata": {},
   "source": [
    "# Stochastic Gradient Descent"
   ]
  },
  {
   "cell_type": "code",
   "execution_count": 44,
   "id": "3e70bac8",
   "metadata": {},
   "outputs": [],
   "source": [
    "# implement stochastic gradient descent \n",
    "def stoch_grad_descent(X, Y, W, epochs, l_rate):\n",
    "    costs = list()\n",
    "    len_data = len(X)\n",
    "    for epoch in range(epochs):\n",
    "        Y1 = hypothesis(W, X)\n",
    "        Y1 = np.sum(Y1, axis=1)\n",
    "        # chose a point at random \n",
    "        point = X.iloc[random.randrange(50), :] # select a row from df at random\n",
    "        # compute the weights next\n",
    "        for i in range(len(W)):\n",
    "            W[i] = W[i] - l_rate * (1 / len_data) * (sum((Y1 - Y)* point[i - 1]))\n",
    "        if (epoch / 100000) in range(0, 15):\n",
    "            costs.append(cost(X, Y, W))\n",
    "            print(f\"weights at epoch {epoch} are {W}\")\n",
    "    print(f\"final weights are {W}\")\n",
    "    return (W, costs)"
   ]
  },
  {
   "cell_type": "code",
   "execution_count": 36,
   "id": "6c5076d9",
   "metadata": {},
   "outputs": [
    {
     "data": {
      "text/plain": [
       "3.7"
      ]
     },
     "execution_count": 36,
     "metadata": {},
     "output_type": "execute_result"
    }
   ],
   "source": [
    "X_train.iloc[random.randrange(50), :][2-1]"
   ]
  },
  {
   "cell_type": "code",
   "execution_count": 45,
   "id": "0ac29148",
   "metadata": {},
   "outputs": [
    {
     "name": "stdout",
     "output_type": "stream",
     "text": [
      "weights at epoch 0 are [0.06016791 5.11427235 0.05535448]\n",
      "weights at epoch 100000 are [0.04666782 3.9639796  0.01529101]\n",
      "weights at epoch 200000 are [0.04666782 3.9639796  0.01529101]\n",
      "weights at epoch 300000 are [0.04666782 3.9639796  0.01529101]\n",
      "weights at epoch 400000 are [0.04666782 3.9639796  0.01529101]\n",
      "weights at epoch 500000 are [0.04666782 3.9639796  0.01529101]\n",
      "weights at epoch 600000 are [0.04666782 3.9639796  0.01529101]\n",
      "weights at epoch 700000 are [0.04666782 3.9639796  0.01529101]\n",
      "weights at epoch 800000 are [0.04666782 3.9639796  0.01529101]\n",
      "weights at epoch 900000 are [0.04666782 3.9639796  0.01529101]\n",
      "weights at epoch 1000000 are [0.04666782 3.9639796  0.01529101]\n",
      "weights at epoch 1100000 are [0.04666782 3.9639796  0.01529101]\n",
      "weights at epoch 1200000 are [0.04666782 3.9639796  0.01529101]\n",
      "weights at epoch 1300000 are [0.04666782 3.9639796  0.01529101]\n",
      "weights at epoch 1400000 are [0.04666782 3.9639796  0.01529101]\n",
      "final weights are [0.04666782 3.9639796  0.01529101]\n"
     ]
    }
   ],
   "source": [
    "W_stoch, costs_train_stoch = stoch_grad_descent(X_train, Y_train, np.zeros(3), 1500000, 0.00015)"
   ]
  },
  {
   "cell_type": "code",
   "execution_count": null,
   "id": "bf2f7eed",
   "metadata": {},
   "outputs": [],
   "source": []
  }
 ],
 "metadata": {
  "kernelspec": {
   "display_name": "Python [conda env:masters]",
   "language": "python",
   "name": "conda-env-masters-py"
  },
  "language_info": {
   "codemirror_mode": {
    "name": "ipython",
    "version": 3
   },
   "file_extension": ".py",
   "mimetype": "text/x-python",
   "name": "python",
   "nbconvert_exporter": "python",
   "pygments_lexer": "ipython3",
   "version": "3.9.7"
  }
 },
 "nbformat": 4,
 "nbformat_minor": 5
}
