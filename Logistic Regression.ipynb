{
 "cells": [
  {
   "cell_type": "code",
   "execution_count": 133,
   "id": "3bf1d6fb",
   "metadata": {},
   "outputs": [],
   "source": [
    "import numpy as np\n",
    "import pandas as pd\n",
    "import matplotlib.pyplot as plt\n",
    "import csv"
   ]
  },
  {
   "cell_type": "code",
   "execution_count": 11,
   "id": "ffb43a65",
   "metadata": {},
   "outputs": [],
   "source": [
    "read_file = pd.read_csv ('dataForTrainingLogistic.txt', sep = \" \", header = None)\n",
    "read_file.to_csv ('dataForTrainingLogistic.csv', index=None)"
   ]
  },
  {
   "cell_type": "code",
   "execution_count": 152,
   "id": "afb7a347",
   "metadata": {
    "scrolled": false
   },
   "outputs": [
    {
     "name": "stdout",
     "output_type": "stream",
     "text": [
      "[[1.  0.4 0.8 ... 0.9 0.1 0.6]\n",
      " [1.  0.3 0.7 ... 0.9 0.2 0. ]\n",
      " [1.  0.4 0.6 ... 1.  0.6 0.7]\n",
      " ...\n",
      " [1.  1.  0.1 ... 0.4 0.8 0. ]\n",
      " [1.  0.6 0.4 ... 0.8 0.7 0.2]\n",
      " [1.  1.  0.1 ... 0.6 1.  0.1]]\n"
     ]
    }
   ],
   "source": [
    "with open('dataForTrainingLogistic.csv') as f:\n",
    "    reader = csv.reader(f)\n",
    "    next(reader)\n",
    "    \n",
    "    data = []\n",
    "    for row in reader:\n",
    "        data.append({\n",
    "            \"bias\": [1],\n",
    "            \"evidence\": [float(cell) for cell in row[:6]],\n",
    "            \"label\": [int(cell) for cell in row[6]]\n",
    "        })\n",
    "        \n",
    "bias = np.array([row[\"bias\"] for row in data])\n",
    "features = np.array([row[\"evidence\"] for row in data])\n",
    "features = np.append(bias, features, axis=1) # what does this function do ? (400, 7)\n",
    "labels = np.array([row[\"label\"] for row in data]) #(400, 1)\n",
    "weights = np.zeros((7, 1)) # initalize weights of shape (7, 1)\n",
    "print(features)"
   ]
  },
  {
   "cell_type": "code",
   "execution_count": 140,
   "id": "8d0d17b4",
   "metadata": {},
   "outputs": [],
   "source": [
    "# sigmoid activation function\n",
    "def sigmoid(z):\n",
    "    return 1.0 / (1 + np.exp(-z))"
   ]
  },
  {
   "cell_type": "code",
   "execution_count": 141,
   "id": "39fa6e64",
   "metadata": {},
   "outputs": [],
   "source": [
    "def predict(f, w):\n",
    "    ''' \n",
    "    Returns 1d array of probabilities \n",
    "    that class label = 1\n",
    "    '''\n",
    "    z = np.dot(f, w)\n",
    "    return sigmoid(z)"
   ]
  },
  {
   "cell_type": "code",
   "execution_count": 142,
   "id": "08349cea",
   "metadata": {},
   "outputs": [
    {
     "name": "stdout",
     "output_type": "stream",
     "text": [
      "[[0.]\n",
      " [0.]\n",
      " [0.]\n",
      " [0.]\n",
      " [0.]\n",
      " [0.]\n",
      " [0.]]\n"
     ]
    }
   ],
   "source": [
    "prediction = predict(features, weights)\n",
    "print(weights)"
   ]
  },
  {
   "cell_type": "code",
   "execution_count": 143,
   "id": "4cadfdb5",
   "metadata": {},
   "outputs": [],
   "source": [
    "def log_likelihood(f, l, w):\n",
    "     \n",
    "    predictions = predict(f, w)\n",
    "    \n",
    "    # take error when label = 1 \n",
    "    class1_cost = l * np.log(predictions)\n",
    "    \n",
    "    # take error when label = 0 \n",
    "    class0_cost = (1 - l) * np.log(1 - predictions)\n",
    "    \n",
    "    # Log likelihood LL: add both costs \n",
    "    LL = class1_cost + class0_cost\n",
    "    LL = LL.sum()\n",
    "    \n",
    "    return LL\n",
    "    "
   ]
  },
  {
   "cell_type": "code",
   "execution_count": 144,
   "id": "3810f7e7",
   "metadata": {},
   "outputs": [
    {
     "name": "stdout",
     "output_type": "stream",
     "text": [
      "-277.2588722239781\n"
     ]
    }
   ],
   "source": [
    "likelihood = log_likelihood(features, labels, weights)\n",
    "print(likelihood)"
   ]
  },
  {
   "cell_type": "code",
   "execution_count": 145,
   "id": "9cd2cf3d",
   "metadata": {},
   "outputs": [],
   "source": [
    "def grad_ascent(f, l, w, lr):\n",
    "    '''\n",
    "    Vectorized gradient ascent\n",
    "    \n",
    "    Features: ()\n",
    "    Labels: ()\n",
    "    Weights: ()\n",
    "    '''\n",
    "    \n",
    "    # get predictions \n",
    "    predictions = predict(f, w)\n",
    "    gradient = np.dot(f.T, l - predictions)\n",
    "    gradient *= lr\n",
    "    w += gradient\n",
    "    \n",
    "    return w"
   ]
  },
  {
   "cell_type": "code",
   "execution_count": 146,
   "id": "4c678862",
   "metadata": {},
   "outputs": [
    {
     "name": "stdout",
     "output_type": "stream",
     "text": [
      "[[ 0.05  ]\n",
      " [-0.443 ]\n",
      " [ 0.5325]\n",
      " [-0.4455]\n",
      " [ 0.5255]\n",
      " [-0.3895]\n",
      " [-0.018 ]]\n",
      "printing weights\n",
      "[[0.]\n",
      " [0.]\n",
      " [0.]\n",
      " [0.]\n",
      " [0.]\n",
      " [0.]\n",
      " [0.]]\n"
     ]
    }
   ],
   "source": [
    "updated_weights = grad_ascent(features, labels, np.copy(weights), 0.01)\n",
    "print(updated_weights) # weights that will maximize the log likelihood\n",
    "\n",
    "print(\"printing weights\")\n",
    "print(weights)"
   ]
  },
  {
   "cell_type": "code",
   "execution_count": 190,
   "id": "5c337830",
   "metadata": {},
   "outputs": [],
   "source": [
    "# define decision boundry\n",
    "def decision_boundary(prob):\n",
    "    for p in prob:\n",
    "        return 1 if p >= 0.5 else 0"
   ]
  },
  {
   "cell_type": "code",
   "execution_count": 203,
   "id": "f23de1eb",
   "metadata": {},
   "outputs": [],
   "source": [
    "def classify(predictions):\n",
    "    classifications = []\n",
    "    for pred in predictions:\n",
    "        classifications.append(decision_boundary(pred))\n",
    "    return classifications"
   ]
  },
  {
   "cell_type": "code",
   "execution_count": 149,
   "id": "e12a2555",
   "metadata": {},
   "outputs": [],
   "source": [
    "def train(f, l, w, lr, epochs):\n",
    "    ll_history = []\n",
    "    \n",
    "    for epoch in range(epochs):\n",
    "        w = grad_ascent(f, l, w, lr)\n",
    "        \n",
    "        # calculate error \n",
    "        log_l = log_likelihood(f, l, w)\n",
    "        ll_history.append(log_l)\n",
    "        \n",
    "        # print cost every 1000 iteration\n",
    "        if epoch % 1000 == 0:\n",
    "            print(f\"epoch: {epoch},  log likelihood: {log_l}\")\n",
    "            \n",
    "    return w, ll_history"
   ]
  },
  {
   "cell_type": "code",
   "execution_count": 132,
   "id": "b6ebbe7b",
   "metadata": {},
   "outputs": [
    {
     "name": "stdout",
     "output_type": "stream",
     "text": [
      "epoch: 0,  log likelihood: -266.3472091606692\n",
      "epoch: 1000,  log likelihood: -9.640339242313882\n",
      "epoch: 2000,  log likelihood: -6.022907474479794\n",
      "epoch: 3000,  log likelihood: -4.602829921109501\n",
      "epoch: 4000,  log likelihood: -3.8112849538120486\n",
      "epoch: 5000,  log likelihood: -3.295218488693929\n",
      "epoch: 6000,  log likelihood: -2.9270742802023664\n",
      "epoch: 7000,  log likelihood: -2.6486057680279504\n",
      "epoch: 8000,  log likelihood: -2.429102786490121\n",
      "epoch: 9000,  log likelihood: -2.250702378200123\n",
      "[[0.]\n",
      " [0.]\n",
      " [0.]\n",
      " [0.]\n",
      " [0.]\n",
      " [0.]\n",
      " [0.]]\n",
      "[[ 1.24061751]\n",
      " [-6.50063501]\n",
      " [ 9.40883544]\n",
      " [-6.69968875]\n",
      " [ 8.43298522]\n",
      " [-4.83474866]\n",
      " [ 0.12538625]]\n"
     ]
    }
   ],
   "source": [
    "(new_weights, history) = train(features, labels, np.copy(weights), 0.001, 10000)\n",
    "print(weights)\n",
    "print(new_weights)"
   ]
  },
  {
   "cell_type": "code",
   "execution_count": 150,
   "id": "1137e247",
   "metadata": {},
   "outputs": [
    {
     "data": {
      "image/png": "[encoded data removed]",
      "text/plain": [
       "<Figure size 432x288 with 1 Axes>"
      ]
     },
     "metadata": {
      "needs_background": "light"
     },
     "output_type": "display_data"
    }
   ],
   "source": [
    "# plot objective function and number of iteration\n",
    "plt.plot(history)\n",
    "plt.ylabel(\"objective function\")\n",
    "plt.show()"
   ]
  },
  {
   "cell_type": "code",
   "execution_count": 200,
   "id": "2f30b8f9",
   "metadata": {},
   "outputs": [
    {
     "name": "stdout",
     "output_type": "stream",
     "text": [
      "[0 0 0 1 0 1 1 0 1 0 0 1 0 0 1 0 0 1 0 1 0 0 0 1 1 1 0 0 1 0 1 1 0 0 1 0 1\n",
      " 0 0 0 1 1 0 1 0 0 1 0 1 1 1 1 0 1 0 0 0 0 1 1 1 1 1 0 1 1 1 1 0 1 1 1 0 1\n",
      " 1 1 1 1 0 1 1 0 0 1 0 0 0 1 0 1 0 1 0 1 1 0 0 0 1 1]\n"
     ]
    }
   ],
   "source": [
    "with open('dataForTestingLogistic.csv') as f:\n",
    "    reader = csv.reader(f)\n",
    "    next(reader)\n",
    "    \n",
    "    data = []\n",
    "    for row in reader:\n",
    "        data.append({\n",
    "            \"bias\": [1],\n",
    "            \"evidence\": [float(cell) for cell in row[:6]],\n",
    "            \"label\": [int(cell) for cell in row[6]]\n",
    "        })\n",
    "        \n",
    "bias_test = np.array([row[\"bias\"] for row in data])\n",
    "feat_test = np.array([row[\"evidence\"] for row in data])\n",
    "feat_test = np.append(bias, feat_test, axis=1) # what does this function do ? (400, 7)\n",
    "labels_test = np.array([row[\"label\"] for row in data]).flatten() #(400, 1)\n",
    "print(labels_test)"
   ]
  },
  {
   "cell_type": "code",
   "execution_count": 204,
   "id": "c088c13f",
   "metadata": {},
   "outputs": [],
   "source": [
    "def test(f, w):\n",
    "    predictions = predict(f, w)\n",
    "    # compare new labels with old labels\n",
    "    new_labels = classify(predictions)\n",
    "    return new_labels"
   ]
  },
  {
   "cell_type": "code",
   "execution_count": 206,
   "id": "66be4ac6",
   "metadata": {},
   "outputs": [
    {
     "name": "stdout",
     "output_type": "stream",
     "text": [
      "[1 1 1 1 1 1 1 1 1 1 1 1 1 1 1 1 1 1 1 1 1 1 1 1 1 1 1 1 1 1 1 1 1 1 1 1 1\n",
      " 1 1 1 1 1 1 1 1 1 1 1 1 1 1 1 1 1 1 1 1 1 1 1 1 1 1 1 1 1 1 1 1 1 1 1 1 1\n",
      " 1 1 1 1 1 1 1 1 1 1 1 1 1 1 1 1 1 1 1 1 1 1 1 1 1 1]\n"
     ]
    }
   ],
   "source": [
    "new_labels = np.array(test(feat_test, new_weights))\n",
    "print(new_labels)"
   ]
  },
  {
   "cell_type": "code",
   "execution_count": 201,
   "id": "81219dce",
   "metadata": {},
   "outputs": [],
   "source": [
    "def accuracy(predicted_labels, actual_labels):\n",
    "    diff = predicted_labels - actual_labels\n",
    "    return 1.0 - (float(np.count_nonzero(diff)) / len(diff))"
   ]
  },
  {
   "cell_type": "code",
   "execution_count": 202,
   "id": "8d5fd557",
   "metadata": {},
   "outputs": [
    {
     "data": {
      "text/plain": [
       "0.52"
      ]
     },
     "execution_count": 202,
     "metadata": {},
     "output_type": "execute_result"
    }
   ],
   "source": [
    "accuracy(new_labels, labels_test)"
   ]
  },
  {
   "cell_type": "code",
   "execution_count": null,
   "id": "052e8a5f",
   "metadata": {},
   "outputs": [],
   "source": []
  }
 ],
 "metadata": {
  "kernelspec": {
   "display_name": "Python [conda env:masters]",
   "language": "python",
   "name": "conda-env-masters-py"
  },
  "language_info": {
   "codemirror_mode": {
    "name": "ipython",
    "version": 3
   },
   "file_extension": ".py",
   "mimetype": "text/x-python",
   "name": "python",
   "nbconvert_exporter": "python",
   "pygments_lexer": "ipython3",
   "version": "3.9.7"
  }
 },
 "nbformat": 4,
 "nbformat_minor": 5
}
